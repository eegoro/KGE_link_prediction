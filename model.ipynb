{
 "cells": [
  {
   "cell_type": "code",
   "execution_count": 1,
   "metadata": {},
   "outputs": [],
   "source": [
    "import matplotlib.pyplot as plt\n",
    "\n",
    "import torch\n",
    "import torch.nn as nn\n",
    "import torch.nn.functional as F\n",
    "from torch.utils.data import DataLoader\n",
    "from torch.utils.data import Dataset\n",
    "\n",
    "import numpy as np\n",
    "import pandas as pd\n",
    "\n",
    "from tqdm import tqdm\n",
    "import random\n",
    "import math\n",
    "import json\n",
    "\n",
    "import time\n",
    "import os\n",
    "# os.environ['CUDA_LAUNCH_BLOCKING'] = \"1\""
   ]
  },
  {
   "cell_type": "code",
   "execution_count": 2,
   "metadata": {},
   "outputs": [],
   "source": [
    "EPOCH = 100\n",
    "BATCH_SIZE = 1024\n",
    "BATCH_SIZE_TEST = 1024\n",
    "VALIDATION_INTERVAL = 5\n",
    "EMBEDDING_SIZE = 10\n",
    "GAMMA = 12\n",
    "LEARNING_RATE = 0.0001\n",
    "REGULARIZATION = 0\n",
    "ADVERSARIAL_TEMPERATURE  = 1 #In self-adversarial sampling, we do not apply back-propagation on the sampling weight\n",
    "NUM_WORKERS = 10\n",
    "\n",
    "uni_weight = True\n",
    "\n",
    "NAME_PATH = 'log//'+ time.ctime()\n",
    "os.mkdir(NAME_PATH)"
   ]
  },
  {
   "cell_type": "markdown",
   "metadata": {},
   "source": [
    "#### Save Hyperparameters"
   ]
  },
  {
   "cell_type": "code",
   "execution_count": 3,
   "metadata": {},
   "outputs": [],
   "source": [
    "with open(r'data/info.txt', 'r') as info_file:\n",
    "    NEG_SAMPLE_SIZE = json.load(info_file)['NEG_SAMPLE_SIZE']\n",
    "NEG_SAMPLE_SIZE = 100    \n",
    "variables = {'NEG_SAMPLE_SIZE': NEG_SAMPLE_SIZE,\n",
    "             'EPOCH': EPOCH,\n",
    "             'BATCH_SIZE': BATCH_SIZE,\n",
    "             'BATCH_SIZE_TEST': BATCH_SIZE_TEST,\n",
    "             'VALIDATION_INTERVAL': VALIDATION_INTERVAL,\n",
    "             #'SAVE_ITERATION': SAVE_ITERATION,\n",
    "             'EMBEDDING_SIZE': EMBEDDING_SIZE,\n",
    "             'GAMMA':  GAMMA,\n",
    "             'LEARNING_RATE': LEARNING_RATE,\n",
    "             'REGULARIZATION': REGULARIZATION,\n",
    "             'ADVERSARIAL_TEMPERATURE': ADVERSARIAL_TEMPERATURE,\n",
    "             'NUM_WORKERS': NUM_WORKERS}\n",
    "with open(NAME_PATH+'//varibles.txt', 'w') as var_file:\n",
    "            json.dump(variables, var_file)"
   ]
  },
  {
   "cell_type": "markdown",
   "metadata": {},
   "source": [
    "#### Data Loader"
   ]
  },
  {
   "cell_type": "code",
   "execution_count": 4,
   "metadata": {},
   "outputs": [
    {
     "name": "stdout",
     "output_type": "stream",
     "text": [
      "NUMBER OF ENTITY: 21431\n",
      "NUMBER OF RELETION: 1\n",
      "\n",
      "TRAIN: 58%\n",
      "VALID: 17%\n",
      "TEST: 25%\n"
     ]
    }
   ],
   "source": [
    "train = pd.read_csv (r'data/train_100_1.csv')\n",
    "test = pd.read_csv (r'data/test_100_1.csv')\n",
    "valid = pd.read_csv (r'data/valid_100_1.csv')\n",
    "\n",
    "for i in [train, valid, test]:\n",
    "    i['neg_head'] = [eval(l) for l in i['neg_head']]\n",
    "    i['neg_tail'] = [eval(l) for l in i['neg_tail']]\n",
    "\n",
    "nentity = len(pd.concat([train['head'], valid['head'], test['head']]).unique()) + len(pd.concat([train['tail'], valid['tail'], test['tail']]).unique())\n",
    "nrelation = len(pd.concat([train['relation'], valid['relation'], test['relation']]).unique())\n",
    "\n",
    "print(f'NUMBER OF ENTITY: {nentity}')\n",
    "print(f'NUMBER OF RELETION: {nrelation}')\n",
    "print()\n",
    "print(f'TRAIN: {round(len(train)/(len(train)+len(test)+len(valid))*100)}%')\n",
    "print(f'VALID: {round(len(valid)/(len(train)+len(test)+len(valid))*100)}%')\n",
    "print(f'TEST: {round(len(test)/(len(train)+len(test)+len(valid))*100)}%')"
   ]
  },
  {
   "cell_type": "code",
   "execution_count": 5,
   "metadata": {},
   "outputs": [],
   "source": [
    "class KGEDataset(Dataset):\n",
    "\n",
    "  def __init__(self,table,mode='train'):\n",
    "\n",
    "    self.mode = mode\n",
    "    self.head = torch.tensor(np.array(table['head']))\n",
    "    self.tail = torch.tensor(np.array(table['tail']))\n",
    "    self.relation = torch.tensor(np.array(table['relation']))\n",
    "    self.neg_head = torch.tensor(np.array(list(table['neg_head'])))\n",
    "    self.neg_tail = torch.tensor(np.array(list(table['neg_tail'])))\n",
    "\n",
    "    if mode=='train':\n",
    "      self.subsampling_weight = torch.tensor(np.array(table['subsampling_weight']))\n",
    "\n",
    "  def __len__(self):\n",
    "    return len(self.head)\n",
    "  \n",
    "  def __getitem__(self,idx):\n",
    "    if self.mode == 'train':\n",
    "      return self.head[idx],self.tail[idx],self.relation[idx], self.neg_head[idx],self.neg_tail[idx], self.subsampling_weight[idx]\n",
    "    else:\n",
    "      return self.head[idx],self.tail[idx],self.relation[idx], self.neg_head[idx],self.neg_tail[idx]"
   ]
  },
  {
   "cell_type": "markdown",
   "metadata": {},
   "source": [
    "#### Model"
   ]
  },
  {
   "cell_type": "code",
   "execution_count": 6,
   "metadata": {},
   "outputs": [],
   "source": [
    "class KGEModel(nn.Module):\n",
    "    def __init__(self, model_name, nentity, nrelation, embedding_size, gamma, evaluator,\n",
    "                 epsilon = 2.0):\n",
    "        super(KGEModel, self).__init__()\n",
    "        \n",
    "        double_entity_embedding=False\n",
    "        double_relation_embedding=False\n",
    "        if model_name == 'ComplEx':\n",
    "            double_entity_embedding = True\n",
    "            double_relation_embedding = True\n",
    "        if model_name == 'RotatE':\n",
    "            double_entity_embedding = True\n",
    "        self.gamma = nn.Parameter(\n",
    "            torch.Tensor([gamma]), \n",
    "            requires_grad=False\n",
    "        )\n",
    "        \n",
    "        self.embedding_range = nn.Parameter(\n",
    "            torch.Tensor([(self.gamma.item() + epsilon) / embedding_size]), \n",
    "            requires_grad=False\n",
    "        )\n",
    "        \n",
    "        self.entity_dim = embedding_size*2 if double_entity_embedding else embedding_size\n",
    "        self.relation_dim = embedding_size*2 if double_relation_embedding else embedding_size\n",
    "        \n",
    "        self.entity_embedding = nn.Parameter(torch.zeros(nentity, self.entity_dim))\n",
    "        nn.init.uniform_(\n",
    "            tensor=self.entity_embedding, \n",
    "            a=-self.embedding_range.item(), \n",
    "            b=self.embedding_range.item()\n",
    "        )\n",
    "        \n",
    "        self.relation_embedding = nn.Parameter(torch.zeros(nrelation, self.relation_dim))\n",
    "        nn.init.uniform_(\n",
    "            tensor=self.relation_embedding, \n",
    "            a=-self.embedding_range.item(), \n",
    "            b=self.embedding_range.item()\n",
    "        )\n",
    "\n",
    "        self.evaluator = evaluator\n",
    "        self.model_func = {\n",
    "            'TransE': self.TransE,\n",
    "            'DistMult': self.DistMult,\n",
    "            'ComplEx': self.ComplEx,\n",
    "            'RotatE': self.RotatE,\n",
    "        }[model_name]\n",
    "\n",
    "    def forward(self, head, tail, relation, neg_head, neg_tail):\n",
    "        head_E = torch.index_select(\n",
    "                self.entity_embedding, \n",
    "                dim=0, \n",
    "                index=head\n",
    "            ).unsqueeze(1)\n",
    "        \n",
    "        relation_E = torch.index_select(\n",
    "                self.relation_embedding, \n",
    "                dim=0, \n",
    "                index=relation\n",
    "            ).unsqueeze(1)\n",
    "\n",
    "        tail_E = torch.index_select(\n",
    "                self.entity_embedding, \n",
    "                dim=0, \n",
    "                index=tail\n",
    "            ).unsqueeze(1)\n",
    "\n",
    "        neg_head_E = torch.index_select(\n",
    "                self.entity_embedding, \n",
    "                dim=0, \n",
    "                index=neg_head.view(-1)\n",
    "            ).view(neg_head.size(0), neg_head.size(1), -1)  #batch_size, negative_sample_size\n",
    "            \n",
    "        neg_tail_E  = torch.index_select(\n",
    "                self.entity_embedding, \n",
    "                dim=0, \n",
    "                index=neg_tail.view(-1)\n",
    "            ).view(neg_tail.size(0), neg_tail.size(1), -1) \n",
    "            \n",
    "        positive_score, negative_tail_score, negative_head_score = self.model_func(head_E, relation_E, tail_E, neg_head_E, neg_tail_E)\n",
    "        \n",
    "        return positive_score, negative_tail_score, negative_head_score\n",
    "\n",
    "    def TransE(self, head, relation, tail, neg_head, neg_tail):\n",
    "        positive_score = (head + relation) - tail\n",
    "        negative_tail_score = (head + relation) - neg_tail\n",
    "        negative_head_score = neg_head + (relation - tail)\n",
    "\n",
    "        positive_score = self.gamma.item() - torch.norm(positive_score, p=1, dim=2)\n",
    "        negative_tail_score = self.gamma.item() - torch.norm(negative_tail_score, p=1, dim=2)\n",
    "        negative_head_score = self.gamma.item() - torch.norm(negative_head_score, p=1, dim=2)\n",
    "\n",
    "        return positive_score, negative_tail_score, negative_head_score\n",
    "    \n",
    "    def DistMult(self, head, relation, tail, neg_head, neg_tail):\n",
    "        positive_score = (head * relation) * tail\n",
    "        negative_tail_score = (head * relation) * neg_tail\n",
    "        negative_head_score = neg_head * (relation * tail)\n",
    "\n",
    "        positive_score = positive_score.sum(dim = 2)\n",
    "        negative_tail_score = negative_tail_score.sum(dim = 2)\n",
    "        negative_head_score = negative_head_score.sum(dim = 2)\n",
    "\n",
    "        return positive_score, negative_tail_score, negative_head_score\n",
    "\n",
    "    def ComplEx(self, head, relation, tail, neg_head, neg_tail):\n",
    "        re_head, im_head = torch.chunk(head, 2, dim=2)\n",
    "        re_relation, im_relation = torch.chunk(relation, 2, dim=2)\n",
    "        re_tail, im_tail = torch.chunk(tail, 2, dim=2)\n",
    "        re_score = re_head * re_relation - im_head * im_relation\n",
    "        im_score = re_head * im_relation + im_head * re_relation\n",
    "        positive_score = re_score * re_tail + im_score * im_tail\n",
    "\n",
    "        re_head, im_head = torch.chunk(head, 2, dim=2)\n",
    "        re_relation, im_relation = torch.chunk(relation, 2, dim=2)\n",
    "        re_tail, im_tail = torch.chunk(neg_tail, 2, dim=2)\n",
    "        re_score = re_head * re_relation - im_head * im_relation\n",
    "        im_score = re_head * im_relation + im_head * re_relation\n",
    "        negative_tail_score = re_score * re_tail + im_score * im_tail\n",
    "\n",
    "        re_head, im_head = torch.chunk(neg_head, 2, dim=2)\n",
    "        re_relation, im_relation = torch.chunk(relation, 2, dim=2)\n",
    "        re_tail, im_tail = torch.chunk(tail, 2, dim=2)\n",
    "        re_score = re_relation * re_tail + im_relation * im_tail\n",
    "        im_score = re_relation * im_tail - im_relation * re_tail\n",
    "        negative_head_score = re_head * re_score + im_head * im_score\n",
    "        \n",
    "        positive_score = positive_score.sum(dim = 2)\n",
    "        negative_tail_score = negative_tail_score.sum(dim = 2)\n",
    "        negative_head_score = negative_head_score.sum(dim = 2)\n",
    "        \n",
    "        return positive_score, negative_tail_score, negative_head_score\n",
    "\n",
    "    def RotatE(self, head, relation, tail, neg_head, neg_tail):\n",
    "        pi = 3.14159265358979323846\n",
    "        \n",
    "        re_head, im_head = torch.chunk(head, 2, dim=2)\n",
    "        re_tail, im_tail = torch.chunk(tail, 2, dim=2)\n",
    "        phase_relation = relation/(self.embedding_range.item()/pi)\n",
    "        re_relation = torch.cos(phase_relation)\n",
    "        im_relation = torch.sin(phase_relation)\n",
    "        re_score = re_head * re_relation - im_head * im_relation\n",
    "        im_score = re_head * im_relation + im_head * re_relation\n",
    "        re_score = re_score - re_tail\n",
    "        im_score = im_score - im_tail\n",
    "        positive_score = torch.stack([re_score, im_score], dim = 0)\n",
    "        positive_score = positive_score.norm(dim = 0)\n",
    "\n",
    "        re_head, im_head = torch.chunk(head, 2, dim=2)\n",
    "        re_tail, im_tail = torch.chunk(neg_tail, 2, dim=2)\n",
    "        phase_relation = relation/(self.embedding_range.item()/pi)\n",
    "        re_relation = torch.cos(phase_relation)\n",
    "        im_relation = torch.sin(phase_relation)\n",
    "        re_score = re_head * re_relation - im_head * im_relation\n",
    "        im_score = re_head * im_relation + im_head * re_relation\n",
    "        re_score = re_score - re_tail\n",
    "        im_score = im_score - im_tail\n",
    "        negative_tail_score = torch.stack([re_score, im_score], dim = 0)\n",
    "        negative_tail_score = negative_tail_score.norm(dim = 0)\n",
    "\n",
    "        re_head, im_head = torch.chunk(neg_head, 2, dim=2)\n",
    "        re_tail, im_tail = torch.chunk(tail, 2, dim=2)\n",
    "        phase_relation = relation/(self.embedding_range.item()/pi)\n",
    "        re_relation = torch.cos(phase_relation)\n",
    "        im_relation = torch.sin(phase_relation)\n",
    "        re_score = re_head * re_relation + im_head * im_relation\n",
    "        im_score = re_head * im_relation - im_head * re_relation\n",
    "        re_score = re_score - re_head\n",
    "        im_score = im_score - im_head\n",
    "        negative_head_score = torch.stack([re_score, im_score], dim = 0)\n",
    "        negative_head_score = negative_head_score.norm(dim = 0)\n",
    "        \n",
    "        positive_score = self.gamma.item() - positive_score.sum(dim = 2)\n",
    "        negative_tail_score = self.gamma.item() - negative_tail_score.sum(dim = 2)\n",
    "        negative_head_score = self.gamma.item() - negative_head_score.sum(dim = 2)\n",
    "\n",
    "        return positive_score, negative_tail_score, negative_head_score\n"
   ]
  },
  {
   "cell_type": "markdown",
   "metadata": {},
   "source": [
    "#### Metrics"
   ]
  },
  {
   "cell_type": "code",
   "execution_count": 7,
   "metadata": {},
   "outputs": [],
   "source": [
    "class Evaluator:\n",
    "    def eval(self, input_dict):\n",
    "        y_pred_pos, y_pred_neg = input_dict['y_pred_pos'], input_dict['y_pred_neg']\n",
    "        y_pred = torch.cat([y_pred_pos.view(-1,1), y_pred_neg], dim = 1)\n",
    "        argsort = torch.argsort(y_pred, dim = 1, descending = True)\n",
    "        ranking_list = torch.nonzero(argsort == 0, as_tuple=False)\n",
    "        ranking_list = ranking_list[:, 1] + 1\n",
    "        hits1_list = (ranking_list <= 1).to(torch.float)\n",
    "        hits3_list = (ranking_list <= 3).to(torch.float)\n",
    "        hits10_list = (ranking_list <= 10).to(torch.float)\n",
    "        mrr_list = 1./ranking_list.to(torch.float)\n",
    "\n",
    "        return mrr_list, hits1_list, hits3_list, hits10_list"
   ]
  },
  {
   "cell_type": "markdown",
   "metadata": {},
   "source": [
    "#### TRAIN"
   ]
  },
  {
   "cell_type": "code",
   "execution_count": 8,
   "metadata": {},
   "outputs": [],
   "source": [
    "def train_model(kge_model, REGULARIZATION):                                                                         \n",
    "    kge_model = kge_model.cuda()\n",
    "    optimizer = torch.optim.Adam(\n",
    "                filter(lambda p: p.requires_grad, kge_model.parameters()), \n",
    "                lr=LEARNING_RATE\n",
    "            )\n",
    "\n",
    "    log, mrr, hits1, hits3, hits10 = [], [], [], [], []\n",
    "\n",
    "    for num_epoch in tqdm(range(EPOCH)):\n",
    "        train_loader=DataLoader(KGEDataset(train),batch_size=BATCH_SIZE,shuffle=True,num_workers=NUM_WORKERS)\n",
    "\n",
    "        for iteration,train_values in enumerate(train_loader):\n",
    "\n",
    "            kge_model.train()\n",
    "            optimizer.zero_grad()\n",
    "\n",
    "            head,tail,relation,neg_head,neg_tail,subsampling_weight = train_values\n",
    "\n",
    "            head = head.cuda()\n",
    "            tail = tail.cuda()\n",
    "            relation = relation.cuda()\n",
    "            neg_head = neg_head.cuda()\n",
    "            neg_tail = neg_tail.cuda()\n",
    "            subsampling_weight = subsampling_weight.cuda()\n",
    "\n",
    "            positive_score, negative_tail_score, negative_head_score = kge_model(head, tail, relation, neg_head, neg_tail)\n",
    "\n",
    "            positive_score = F.logsigmoid(positive_score).squeeze(dim = 1)\n",
    "            if ADVERSARIAL_TEMPERATURE!=0.0:\n",
    "                #In self-adversarial sampling, we do not apply back-propagation on the sampling weight\n",
    "                negative_tail_score = (F.softmax(negative_tail_score * ADVERSARIAL_TEMPERATURE, dim = 1).detach() \n",
    "                                  * F.logsigmoid(-negative_tail_score)).sum(dim = 1)\n",
    "                negative_head_score = (F.softmax(negative_head_score * ADVERSARIAL_TEMPERATURE, dim = 1).detach() \n",
    "                                  * F.logsigmoid(-negative_head_score)).sum(dim = 1)\n",
    "            else:\n",
    "                negative_tail_score = F.logsigmoid(-negative_tail_score).mean(dim = 1)\n",
    "                negative_head_score = F.logsigmoid(-negative_head_score).mean(dim = 1)\n",
    "\n",
    "            if uni_weight:\n",
    "                positive_sample_loss = - positive_score.mean()\n",
    "                negative_sample_tail_loss = - negative_tail_score.mean()\n",
    "                negative_sample_head_loss = - negative_head_score.mean()\n",
    "            else:\n",
    "                positive_sample_loss = - (subsampling_weight * positive_score).sum()/subsampling_weight.sum()\n",
    "                negative_sample_tail_loss = - (subsampling_weight * negative_tail_score).sum()/subsampling_weight.sum()\n",
    "                negative_sample_head_loss = - (subsampling_weight * negative_head_score).sum()/subsampling_weight.sum()\n",
    "\n",
    "            loss = (2*positive_sample_loss + negative_sample_tail_loss+negative_sample_head_loss)/4\n",
    "\n",
    "            if REGULARIZATION != 0.0:\n",
    "                #Use L3 regularization for ComplEx and DistMult\n",
    "                REGULARIZATION = REGULARIZATION * (\n",
    "                    kge_model.entity_embedding.norm(p = 3)**3 + \n",
    "                    kge_model.relation_embedding.norm(p = 3).norm(p = 3)**3\n",
    "                )\n",
    "                loss = loss + REGULARIZATION\n",
    "\n",
    "            loss.backward()\n",
    "\n",
    "            log.append(loss)\n",
    "\n",
    "            optimizer.step()\n",
    "\n",
    "    # VALID\n",
    "        if (num_epoch+1)%VALIDATION_INTERVAL == 0:\n",
    "            valid_loader=DataLoader(KGEDataset(valid,mode='test'),batch_size=BATCH_SIZE_TEST,shuffle=True,num_workers=NUM_WORKERS)\n",
    "            metrics = []\n",
    "\n",
    "            for valid_values in valid_loader:\n",
    "                kge_model.eval()\n",
    "\n",
    "                head,tail,relation,neg_head,neg_tail = valid_values\n",
    "\n",
    "                head = head.cuda()\n",
    "                tail = tail.cuda()\n",
    "                relation = relation.cuda()\n",
    "                neg_head = neg_head.cuda()\n",
    "                neg_tail = neg_tail.cuda()\n",
    "\n",
    "                with torch.no_grad():\n",
    "                    positive_score, negative_tail_score, negative_head_score = kge_model(head, tail, relation, neg_head, neg_tail)\n",
    "                    metrics.append([metric.mean() for metric in kge_model.evaluator.eval({'y_pred_pos': positive_score, 'y_pred_neg': torch.cat((negative_tail_score,negative_head_score), dim=1)})])\n",
    "\n",
    "            metrics = torch.tensor(metrics).mean(0)\n",
    "            mrr.append(metrics[0])\n",
    "            hits1.append(metrics[1])\n",
    "            hits3.append(metrics[2])\n",
    "            hits10.append(metrics[3])\n",
    "            \n",
    "    return kge_model, log, mrr, hits1, hits3, hits10"
   ]
  },
  {
   "cell_type": "markdown",
   "metadata": {},
   "source": [
    "#### TEST"
   ]
  },
  {
   "cell_type": "code",
   "execution_count": 9,
   "metadata": {},
   "outputs": [],
   "source": [
    "def test_model(kge_model):\n",
    "    os.mkdir(NAME_PATH+'//'+ MODEL_NAME)\n",
    "    metrics = []\n",
    "\n",
    "    test_loader=DataLoader(KGEDataset(test,mode='test'),batch_size=BATCH_SIZE_TEST,shuffle=True,num_workers=NUM_WORKERS)\n",
    "    for test_values in test_loader:\n",
    "            kge_model.eval()\n",
    "\n",
    "            head,tail,relation,neg_head,neg_tail = test_values\n",
    "\n",
    "            head = head.cuda()\n",
    "            tail = tail.cuda()\n",
    "            relation = relation.cuda()\n",
    "            neg_head = neg_head.cuda()\n",
    "            neg_tail = neg_tail.cuda()\n",
    "\n",
    "            with torch.no_grad():\n",
    "                        positive_score, negative_tail_score, negative_head_score = kge_model(head, tail, relation, neg_head, neg_tail)\n",
    "                        metrics.append([metric.mean() for metric in kge_model.evaluator.eval({'y_pred_pos': positive_score, 'y_pred_neg': torch.cat((negative_tail_score,negative_head_score), dim=1)})])\n",
    "\n",
    "    metrics = torch.tensor(metrics).mean(0)\n",
    "    dict_metrics = {'MRR': float(metrics[0]),\n",
    "                    'HITS@1': float(metrics[1]),\n",
    "                    'HITS@3': float(metrics[2]),\n",
    "                    'HITS@10': float(metrics[3])}\n",
    "\n",
    "    with open(NAME_PATH+'//'+ MODEL_NAME+ '//metrics.txt', 'w') as var_file:\n",
    "                json.dump(dict_metrics, var_file)\n",
    "\n",
    "    print(dict_metrics)"
   ]
  },
  {
   "cell_type": "markdown",
   "metadata": {},
   "source": [
    "#### SAVE"
   ]
  },
  {
   "cell_type": "code",
   "execution_count": 10,
   "metadata": {},
   "outputs": [],
   "source": [
    "def save_model(kge_model, log, mrr, hits1, hits3, hits10):\n",
    "    torch.save(kge_model.state_dict(), NAME_PATH+'//'+ MODEL_NAME+'//model.pt')\n",
    "    torch.save(list(torch.tensor(log)), NAME_PATH+'//'+ MODEL_NAME+'//loss.pt')\n",
    "    torch.save(mrr, NAME_PATH+'//'+ MODEL_NAME+'//mrr.pt')\n",
    "    torch.save(hits1, NAME_PATH+'//'+ MODEL_NAME+'//hits1.pt')\n",
    "    torch.save(hits3, NAME_PATH+'//'+ MODEL_NAME+'//hits3.pt')\n",
    "    torch.save(hits10, NAME_PATH+'//'+ MODEL_NAME+'//hits10.pt')\n",
    "\n",
    "    plt.clf()\n",
    "    figure, axis = plt.subplots(2, 2)\n",
    "    axis[0,0].plot(torch.tensor(log))\n",
    "    axis[0,0].set_title(\"TRAIN LOSS\")\n",
    "\n",
    "    axis[0,1].plot(mrr)\n",
    "    axis[0,1].set_title(\"VALID MRR\")\n",
    "\n",
    "    axis[1,0].plot(hits1)\n",
    "    axis[1,0].set_title(\"VALID HITS@1\")\n",
    "\n",
    "    axis[1,1].plot(hits3)\n",
    "    axis[1,1].set_title(\"VALID HITS@3\")\n",
    "\n",
    "    figure.tight_layout()\n",
    "\n",
    "    plt.savefig(NAME_PATH+'//'+ MODEL_NAME+'//result.png', dpi=300, facecolor='w', edgecolor='w')"
   ]
  },
  {
   "cell_type": "code",
   "execution_count": 11,
   "metadata": {},
   "outputs": [],
   "source": [
    "evaluator = Evaluator() "
   ]
  },
  {
   "cell_type": "code",
   "execution_count": 13,
   "metadata": {},
   "outputs": [
    {
     "name": "stderr",
     "output_type": "stream",
     "text": [
      "100%|██████████| 100/100 [1:43:17<00:00, 61.98s/it]\n"
     ]
    },
    {
     "name": "stdout",
     "output_type": "stream",
     "text": [
      "{'MRR': 0.21266964077949524, 'HITS@1': 0.11799104511737823, 'HITS@3': 0.2312559336423874, 'HITS@10': 0.3985440135002136}\n"
     ]
    },
    {
     "data": {
      "text/plain": [
       "<Figure size 432x288 with 0 Axes>"
      ]
     },
     "metadata": {},
     "output_type": "display_data"
    },
    {
     "data": {
      "image/png": "[encoded data removed]",
      "text/plain": [
       "<Figure size 432x288 with 4 Axes>"
      ]
     },
     "metadata": {
      "needs_background": "light"
     },
     "output_type": "display_data"
    }
   ],
   "source": [
    "MODEL_NAME = 'TransE' # 'TransE', 'DistMult', 'ComplEx', 'RotatE'\n",
    "kge_model_TransE = KGEModel(model_name = MODEL_NAME, nentity=nentity, nrelation=nrelation,\n",
    "            embedding_size=EMBEDDING_SIZE, gamma=GAMMA, evaluator=evaluator)\n",
    "kge_model_TransE, log_TransE, mrr_TransE, hits1_TransE, hits3_TransE, hits10_TransE = train_model(kge_model_TransE, REGULARIZATION)\n",
    "test_model(kge_model_TransE)\n",
    "save_model(kge_model_TransE, log_TransE, mrr_TransE, hits1_TransE, hits3_TransE, hits10_TransE)"
   ]
  },
  {
   "cell_type": "code",
   "execution_count": 14,
   "metadata": {},
   "outputs": [
    {
     "name": "stderr",
     "output_type": "stream",
     "text": [
      "100%|██████████| 100/100 [1:40:51<00:00, 60.51s/it]\n"
     ]
    },
    {
     "name": "stdout",
     "output_type": "stream",
     "text": [
      "{'MRR': 0.4298126995563507, 'HITS@1': 0.3206501007080078, 'HITS@3': 0.4850424826145172, 'HITS@10': 0.6316869258880615}\n"
     ]
    },
    {
     "data": {
      "text/plain": [
       "<Figure size 432x288 with 0 Axes>"
      ]
     },
     "metadata": {},
     "output_type": "display_data"
    },
    {
     "data": {
      "image/png": "[encoded data removed]",
      "text/plain": [
       "<Figure size 432x288 with 4 Axes>"
      ]
     },
     "metadata": {
      "needs_background": "light"
     },
     "output_type": "display_data"
    }
   ],
   "source": [
    "MODEL_NAME = 'DistMult' # 'TransE', 'DistMult', 'ComplEx', 'RotatE'\n",
    "kge_model_DistMult = KGEModel(model_name = MODEL_NAME, nentity=nentity, nrelation=nrelation,\n",
    "            embedding_size=EMBEDDING_SIZE, gamma=GAMMA, evaluator=evaluator)\n",
    "kge_model_DistMult, log_DistMult, mrr_DistMult, hits1_DistMult, hits3_DistMult, hits10_DistMult = train_model(kge_model_DistMult, REGULARIZATION)\n",
    "test_model(kge_model_DistMult)\n",
    "save_model(kge_model_DistMult, log_DistMult, mrr_DistMult, hits1_DistMult, hits3_DistMult, hits10_DistMult)"
   ]
  },
  {
   "cell_type": "code",
   "execution_count": 13,
   "metadata": {},
   "outputs": [
    {
     "name": "stderr",
     "output_type": "stream",
     "text": [
      "100%|██████████| 100/100 [1:41:05<00:00, 60.66s/it]\n"
     ]
    },
    {
     "name": "stdout",
     "output_type": "stream",
     "text": [
      "{'MRR': 0.5263955593109131, 'HITS@1': 0.42579635977745056, 'HITS@3': 0.5864235758781433, 'HITS@10': 0.7019913792610168}\n"
     ]
    },
    {
     "data": {
      "text/plain": [
       "<Figure size 432x288 with 0 Axes>"
      ]
     },
     "metadata": {},
     "output_type": "display_data"
    },
    {
     "data": {
      "image/png": "[encoded data removed]",
      "text/plain": [
       "<Figure size 432x288 with 4 Axes>"
      ]
     },
     "metadata": {
      "needs_background": "light"
     },
     "output_type": "display_data"
    }
   ],
   "source": [
    "MODEL_NAME = 'ComplEx' # 'TransE', 'DistMult', 'ComplEx', 'RotatE'\n",
    "kge_model_ComplEx = KGEModel(model_name = MODEL_NAME, nentity=nentity, nrelation=nrelation,\n",
    "            embedding_size=EMBEDDING_SIZE, gamma=GAMMA, evaluator=evaluator)\n",
    "kge_model_ComplEx, log_ComplEx, mrr_ComplEx, hits1_ComplEx, hits3_ComplEx, hits10_ComplEx = train_model(kge_model_ComplEx, REGULARIZATION)\n",
    "test_model(kge_model_ComplEx)\n",
    "save_model(kge_model_ComplEx, log_ComplEx, mrr_ComplEx, hits1_ComplEx, hits3_ComplEx, hits10_ComplEx)"
   ]
  },
  {
   "cell_type": "code",
   "execution_count": 12,
   "metadata": {},
   "outputs": [
    {
     "name": "stderr",
     "output_type": "stream",
     "text": [
      "100%|██████████| 100/100 [1:46:31<00:00, 63.91s/it]\n"
     ]
    },
    {
     "name": "stdout",
     "output_type": "stream",
     "text": [
      "{'MRR': 0.5282082557678223, 'HITS@1': 0.43065953254699707, 'HITS@3': 0.575720489025116, 'HITS@10': 0.7128217816352844}\n"
     ]
    },
    {
     "data": {
      "text/plain": [
       "<Figure size 432x288 with 0 Axes>"
      ]
     },
     "metadata": {},
     "output_type": "display_data"
    },
    {
     "data": {
      "image/png": "[encoded data removed]",
      "text/plain": [
       "<Figure size 432x288 with 4 Axes>"
      ]
     },
     "metadata": {
      "needs_background": "light"
     },
     "output_type": "display_data"
    }
   ],
   "source": [
    "MODEL_NAME = 'RotatE' # 'TransE', 'DistMult', 'ComplEx', 'RotatE'\n",
    "kge_model_RotatE = KGEModel(model_name = MODEL_NAME, nentity=nentity, nrelation=nrelation,\n",
    "            embedding_size=EMBEDDING_SIZE, gamma=GAMMA, evaluator=evaluator)\n",
    "kge_model_RotatE, log_RotatE, mrr_RotatE, hits1_RotatE, hits3_RotatE, hits10_RotatE = train_model(kge_model_RotatE, REGULARIZATION)\n",
    "test_model(kge_model_RotatE)\n",
    "save_model(kge_model_RotatE, log_RotatE, mrr_RotatE, hits1_RotatE, hits3_RotatE, hits10_RotatE)"
   ]
  },
  {
   "cell_type": "code",
   "execution_count": null,
   "metadata": {},
   "outputs": [],
   "source": [
    "# # Чтение\n",
    "# with open('file.txt', 'r') as file:\n",
    "#     log = json.load(file)\n",
    "\n",
    "# torch.load('file.pt')\n",
    "\n",
    "# a = torch.load('model.pt')\n",
    "# b = a['entity_embedding'].cpu().numpy()\n",
    "# b.size"
   ]
  }
 ],
 "metadata": {
  "kernelspec": {
   "display_name": "Python [conda env:.conda-ml]",
   "language": "python",
   "name": "conda-env-.conda-ml-py"
  },
  "language_info": {
   "codemirror_mode": {
    "name": "ipython",
    "version": 3
   },
   "file_extension": ".py",
   "mimetype": "text/x-python",
   "name": "python",
   "nbconvert_exporter": "python",
   "pygments_lexer": "ipython3",
   "version": "3.7.11"
  },
  "vscode": {
   "interpreter": {
    "hash": "c688d49920be7bbf78ae94a9bca1b2bf919231a3254bde77120844e21401b4fe"
   }
  }
 },
 "nbformat": 4,
 "nbformat_minor": 4
}
