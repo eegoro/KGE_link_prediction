{
 "cells": [
  {
   "cell_type": "markdown",
   "metadata": {},
   "source": [
    "#### Based on https://img-cdn.tinkoffjournal.ru/-/mcc_new_codes.pdf"
   ]
  },
  {
   "cell_type": "code",
   "execution_count": null,
   "metadata": {},
   "outputs": [],
   "source": [
    "air_tickets     = [str(a) for a in list(range(3000,3351))+[4304]+[4415]+[4418]+[4511]+[4582]]\n",
    "car_services    = [str(a) for a in [5511]+[5521]+list(range(5531,5534))+[5571]+[7012]+[7531]+[7534]+[7535]+[7538]+[7542]+[7549]]\n",
    "pharmacies      = [str(a) for a in [5122]+[5292]+[5295]+[5912]]\n",
    "car_rental      = [str(a) for a in list(range(3351,3399))+list(range(3400,3440))+[3441]+[7512]+[7513]+[7519]]\n",
    "house_repair    = [str(a) for a in [1520]+[1711]+[1731]+[1740]+[1750]+[1761]+[1771]+[1799]+[2791]+[2842]+[5021]+\\\n",
    "                [5039]+[5046]+[5051]+[5065]+[5072]+[5074]+[5085]+[5198]+[5200]+[5211]+[5231]+\\\n",
    "                [5251]+[5261]+[5415]+list(range(5712,5715))+[5718]+[5719]+[5722]+[7622]+[7623]+\\\n",
    "                [7629]+[7641]+[7692]+[7699]]\n",
    "train_tickets   = [str(a) for a in [4011]+[4112]]\n",
    "pets            = [str(a) for a in ['0742']+[742]+[5995]]\n",
    "art             = [str(a) for a in [5932]+[5937]+list(range(5970,5974))]\n",
    "cinema          = [str(a) for a in [7829]+[7832]+[7841]]\n",
    "beauty          = [str(a) for a in [5977]+[7230]+[7297]+[7998]]\n",
    "medical_services = [str(a) for a in [4119]+[5047]+[5296]+[5975]+[5976]+[8011]+[8021]+[8031]+list(range(8041,8045))+\\\n",
    "                    [8049]+[8050]+[8062]+[8071]+[8099]+[8351]+[8676]]\n",
    "music           = [str(a) for a in [5733]+[5735]]\n",
    "cash            = [str(a) for a in [6010]+[6011]]\n",
    "non_profit_organization = [str(a) for a in [8398]+[8641]+[8651]+[8661]+[8675]+[8699]+[8734]+[8911]+[8931]+[8999]]\n",
    "education       = [str(a) for a in [8211]+[8220]+[8241]+[8244]+[8249]+[8299]+[8493]+[8494]]\n",
    "clothes_shoes   = [str(a) for a in [5094]+[5137]+[5139]+[5611]+[5621]+[5631]+[5641]+[5651]+[5661]+[5681]+[5691]+\\\n",
    "                list(range(5697,5700))+[5931]+[5944]+[5949]+[5950]+[7196]+[7631]]\n",
    "hotel           = [str(a) for a in list(range(3501,3828))+[7011]+[7032]+[7033]]\n",
    "fines_taxes     = [str(a) for a in [9211]+[9222]+[9223]+list(range(9311,9315))+[9399]+[9402]+[9405]+[9751]+[9752]+[9950]]\n",
    "entertainment   = [str(a) for a in [7911]+[7922]+[7929]+[7932]+[7933]+[7941]+list(range(7991,7995))+list(range(7996,8000))+[8664]]\n",
    "miscellaneous_goods = [str(a) for a in [5099]+[5131]+[5169]+[5310]+[5311]+[5331]+[5339]+[5732]+[5734]+[5933]+[5935]+[5943]+\\\n",
    "                        [5945]+[5948]+[5978]+[5993]+list(range(5996,6000))+[7278]+[7280]]\n",
    "restaurants     = [str(a) for a in list(range(5811,5814))]\n",
    "telecommunication = [str(a) for a in list(range(4812,4817))+[4821]+[4829]+list(range(4896,4900))+[4901]+[4902]+[7372]+[7375]+\\\n",
    "                    [7479]+[7894]]\n",
    "services        = [str(a) for a in ['0763']+[763]+['0780']+[780]+[4214]+[4215]+[4225]+[5199]+[5299]+[5301]+[5543]+[5544]+[5960]+\\\n",
    "                list(range(5960,5970))+[7013]+[7210]+[7211]+[7216]+[7217]+[7221]+[7251]+[7311]+[7321]+[7341]+[7342]+[7349]+\\\n",
    "                [7361]+list(range(7392,7395))+[7399]+[7407]+[8111]]\n",
    "sport           = [str(a) for a in [5655]+[5940]+[5941]]\n",
    "souvenirs       = [str(a) for a in [5947]]   \n",
    "supermarkets    = [str(a) for a in [5297]+[5298]+[5300]+[5411]+[5412]+[5422]+[5441]+[5451]+[5462]+[5499]+[5715]+[5921]]\n",
    "fuel            = [str(a) for a in [5172]+[5541]+[5542]+[5983]]\n",
    "transport       = [str(a) for a in [11]+['0011']+[4111]+[4121]+[4131]+[4457]+[4468]+[4784]+[4789]+[5013]+[5271]+[5551]+[5561]+\\\n",
    "                [5592]+[5598]+[5599]+[7511]+[7523]]\n",
    "travel_agencies = [str(a) for a in [4411]+[4416]+[4417]+[4419]+[4722]+[4723]+[4761]+[7015]]\n",
    "fast_food       = [str(a) for a in [5814]]\n",
    "financial_services = [str(a) for a in [5416]+[5417]+[6012]+[6050]+[6051]+[6211]+[6300]+[6381]+[6399]+[6513]+list(range(6529,6539))+\\\n",
    "                    [6540]+[6611]+[6760]+[7322]+[9411]]\n",
    "photo_video     = [str(a) for a in [5544]+[5045]+[5946]+[7332]+[7333]+[7338]+[7339]+[7395]]\n",
    "flowers         = [str(a) for a in [5193]+[5992]]\n",
    "private_services = [str(a) for a in [7014]+[7261]+[7273]+[7276]+[7277]+[7295]+[7299]]\n",
    "duty_free = [str(a) for a in [5309]]"
   ]
  },
  {
   "cell_type": "code",
   "execution_count": 10,
   "metadata": {},
   "outputs": [],
   "source": [
    "# Added unknown mss from transaction table\n",
    "\n",
    "services.extend(['2741'])\n",
    "house_repair.extend(['4900'])\n",
    "miscellaneous_goods.extend(['5111, 5399'])\n",
    "beauty.extend(['7298'])\n",
    "books = ['5192', '5942', '5994']"
   ]
  },
  {
   "cell_type": "code",
   "execution_count": 11,
   "metadata": {},
   "outputs": [],
   "source": [
    "categories = { 'Air Tickets':  air_tickets,\n",
    "                'Car Services': car_services,\n",
    "                'Pharmacies': pharmacies,\n",
    "                'Car Rental': car_rental,\n",
    "                'House, Repair': house_repair,\n",
    "                'Train Tickets': train_tickets,\n",
    "                'Pets': pets,\n",
    "                'Art': art,\n",
    "                'Cinema': cinema,\n",
    "                'Beauty': beauty,\n",
    "                'Medical Services': medical_services,\n",
    "                'Music': music,\n",
    "                'Cash': cash,\n",
    "                'Non-profit Organization': non_profit_organization,\n",
    "                'Education': education,\n",
    "                'Clothes, Shoes': clothes_shoes,\n",
    "                'Hotel': hotel,\n",
    "                'Fines, Taxes': fines_taxes,\n",
    "                'Entertainment': entertainment,\n",
    "                'Miscellaneous Goods': miscellaneous_goods,\n",
    "                'Restaurants': restaurants,\n",
    "                'Telecommunication': telecommunication,\n",
    "                'Services': services,\n",
    "                'Sport': sport,\n",
    "                'Souvenirs': souvenirs,\n",
    "                'Supermarkets': supermarkets,\n",
    "                'Fuel': fuel,\n",
    "                'Transport': transport,\n",
    "                'Travel Agencies': travel_agencies,\n",
    "                'Fast Food': fast_food,\n",
    "                'Financial Services': financial_services,\n",
    "                'Photo/Video': photo_video,\n",
    "                'Flowers': flowers,\n",
    "                'Private Services': private_services,\n",
    "                'Duty Free': duty_free,\n",
    "                'Books': books\n",
    "                }"
   ]
  },
  {
   "cell_type": "code",
   "execution_count": 12,
   "metadata": {},
   "outputs": [],
   "source": [
    "mcc_categories = {value: key for key, values in categories.items() for value in values}"
   ]
  },
  {
   "cell_type": "code",
   "execution_count": null,
   "metadata": {},
   "outputs": [],
   "source": [
    "import json\n",
    "with open('mcc_categories.json', 'w') as outfile:\n",
    "    json.dump(mcc_categories, outfile)"
   ]
  },
  {
   "cell_type": "code",
   "execution_count": null,
   "metadata": {},
   "outputs": [],
   "source": [
    "import json\n",
    "\n",
    "with open(\"mcc_categories.json\", \"r\") as my_file:\n",
    "    mcc_categories = json.load(my_file)\n",
    "    \n",
    "unknown_categories = [x for x in clear_data['MCC'] if str(x) not in mcc_categories]"
   ]
  }
 ],
 "metadata": {
  "interpreter": {
   "hash": "31d7989649452b8ff5b252a3e34caf45e4ffd8a5787fe28fc2ce0245f11b7782"
  },
  "kernelspec": {
   "display_name": "Python 3 (ipykernel)",
   "language": "python",
   "name": "python3"
  },
  "language_info": {
   "codemirror_mode": {
    "name": "ipython",
    "version": 3
   },
   "file_extension": ".py",
   "mimetype": "text/x-python",
   "name": "python",
   "nbconvert_exporter": "python",
   "pygments_lexer": "ipython3",
   "version": "3.8.8"
  }
 },
 "nbformat": 4,
 "nbformat_minor": 4
}
