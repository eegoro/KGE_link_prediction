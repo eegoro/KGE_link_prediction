{
 "cells": [
  {
   "cell_type": "code",
   "execution_count": 34,
   "metadata": {},
   "outputs": [],
   "source": [
    "import torch\n",
    "import numpy as np\n",
    "import pandas as pd\n",
    "import sklearn\n",
    "from sklearn import model_selection\n",
    "import torch_geometric\n",
    "from torch_geometric import utils\n",
    "from tqdm import tqdm"
   ]
  },
  {
   "cell_type": "code",
   "execution_count": 35,
   "metadata": {},
   "outputs": [],
   "source": [
    "df = pd.read_csv ('clear_data_realbank.csv')\n",
    "\n",
    "df.rename(columns = {'RETAILER' : 'terminal_id', 'CustomerKey' : 'customer_id',\n",
    "                        'MCC' : 'mcc', 'AMOUNT_EQ' : 'amount'   }, \n",
    "                            inplace = True) \n",
    "# некоторые id магазинов имели разные категории. Здесь id c разл категорией приравниваются к -2 и затем удаляются\n",
    "for i in (range(min(df.mcc.unique()),max(df.mcc.unique())+1)):\n",
    "    for j in range(i+1,max(df.mcc.unique())+1):\n",
    "        for k in (set(df[df.mcc==i].terminal_id.unique())&set(df[df.mcc==j].terminal_id.unique())):\n",
    "            df.loc[df.terminal_id == k,'mcc'] = -2\n",
    "df = df[df.mcc != -2].reset_index(drop=True)\n",
    "\n",
    "#изменение amount на 8 категорий\n",
    "# траты разбиваются на 9 категорий и в дальнейшем будут характеризировать отношения\n",
    "df.amount = pd.qcut(df.amount, q=8, \n",
    "        labels=[\"small\", \"medium_small\", \"medium_small_2\", 'medium_1', 'medium_2', 'medium_large_2', 'medium_large', 'large'])\n",
    "\n",
    "# некоторые связи могут дублировать друг друга, возможно следует их удалить:\n",
    "# df = df.drop_duplicates(subset=['amount', 'customer_id', 'mcc'], keep='first')\n",
    "# df = df.drop_duplicates(subset=['transaction_date', 'customer_id', 'mcc'], keep='first')\n",
    "# df = df.drop_duplicates(subset=['Address', 'customer_id', 'mcc'], keep='first')\n",
    "\n",
    "# # отношения характеризуются объемом трат и датой - разные виды отношений\n",
    "# relations = [key for key in category_head] + list(set(df['transaction_date']))             + list(set(df['Address']))\n",
    "df = df.sort_values('mcc')\n",
    "\n",
    "df['tail_type'] = df.mcc.astype(str)\n",
    "#каждая категория сущностей имеет свои id начинающиеся с 0 в каждой категории\n",
    "user_dict = dict(zip(df['customer_id'].unique(), list(range(0,len(df['customer_id'].unique())))))\n",
    "###shop_dict = dict(zip(df['terminal_id'].unique(), list(range(len(df['customer_id'].unique()),len(df['customer_id'].unique())+len(df['terminal_id'].unique())))))\n",
    "df['customer_id'] = [user_dict[i] for i in df['customer_id']]\n",
    "###df['terminal_id'] = [shop_dict[i] for i in df['terminal_id']]\n",
    "for i in sorted(df.tail_type.unique()):\n",
    "    df.loc[df.tail_type==i,'terminal_id'] = list(range(0,len(df[df.tail_type==i]['terminal_id'])))"
   ]
  },
  {
   "cell_type": "code",
   "execution_count": 36,
   "metadata": {},
   "outputs": [],
   "source": [
    "top_mcc = list(df.mcc.value_counts()[:10].rename_axis('unique_values').reset_index(name='counts')['unique_values'])\n",
    "df = df[df.mcc.isin(top_mcc)].reset_index(drop=True)"
   ]
  },
  {
   "cell_type": "code",
   "execution_count": 37,
   "metadata": {},
   "outputs": [],
   "source": [
    "# df.amount = 'small'"
   ]
  },
  {
   "cell_type": "code",
   "execution_count": 38,
   "metadata": {},
   "outputs": [
    {
     "data": {
      "text/html": [
       "<div>\n",
       "<style scoped>\n",
       "    .dataframe tbody tr th:only-of-type {\n",
       "        vertical-align: middle;\n",
       "    }\n",
       "\n",
       "    .dataframe tbody tr th {\n",
       "        vertical-align: top;\n",
       "    }\n",
       "\n",
       "    .dataframe thead th {\n",
       "        text-align: right;\n",
       "    }\n",
       "</style>\n",
       "<table border=\"1\" class=\"dataframe\">\n",
       "  <thead>\n",
       "    <tr style=\"text-align: right;\">\n",
       "      <th></th>\n",
       "      <th>terminal_id</th>\n",
       "      <th>customer_id</th>\n",
       "      <th>TRANS_DETAIL</th>\n",
       "      <th>mcc</th>\n",
       "      <th>tstmp</th>\n",
       "      <th>amount</th>\n",
       "      <th>tail_type</th>\n",
       "    </tr>\n",
       "  </thead>\n",
       "  <tbody>\n",
       "    <tr>\n",
       "      <th>0</th>\n",
       "      <td>0</td>\n",
       "      <td>0</td>\n",
       "      <td>OOO \"MAKSIDOM\", ST PETERBURG, RU</td>\n",
       "      <td>-1</td>\n",
       "      <td>2018-01-02 18:21:17+03:00</td>\n",
       "      <td>large</td>\n",
       "      <td>-1</td>\n",
       "    </tr>\n",
       "    <tr>\n",
       "      <th>1</th>\n",
       "      <td>1</td>\n",
       "      <td>1</td>\n",
       "      <td>IP ALIEV NIFTALY, St Petersburg, RU</td>\n",
       "      <td>-1</td>\n",
       "      <td>2018-07-06 09:39:20+03:00</td>\n",
       "      <td>medium_small</td>\n",
       "      <td>-1</td>\n",
       "    </tr>\n",
       "    <tr>\n",
       "      <th>2</th>\n",
       "      <td>2</td>\n",
       "      <td>1</td>\n",
       "      <td>IP ALIEV NIFTALY, St Petersburg, RU</td>\n",
       "      <td>-1</td>\n",
       "      <td>2018-12-26 22:09:25+03:00</td>\n",
       "      <td>medium_small</td>\n",
       "      <td>-1</td>\n",
       "    </tr>\n",
       "    <tr>\n",
       "      <th>3</th>\n",
       "      <td>3</td>\n",
       "      <td>2</td>\n",
       "      <td>IP ALIEV NIFTALY, St Petersburg, RU</td>\n",
       "      <td>-1</td>\n",
       "      <td>2018-11-05 23:01:48+03:00</td>\n",
       "      <td>medium_small</td>\n",
       "      <td>-1</td>\n",
       "    </tr>\n",
       "    <tr>\n",
       "      <th>4</th>\n",
       "      <td>4</td>\n",
       "      <td>1</td>\n",
       "      <td>IP ALIEV NIFTALY, St Petersburg, RU</td>\n",
       "      <td>-1</td>\n",
       "      <td>2018-09-25 08:22:11+03:00</td>\n",
       "      <td>medium_small</td>\n",
       "      <td>-1</td>\n",
       "    </tr>\n",
       "  </tbody>\n",
       "</table>\n",
       "</div>"
      ],
      "text/plain": [
       "  terminal_id  customer_id                         TRANS_DETAIL  mcc  \\\n",
       "0           0            0     OOO \"MAKSIDOM\", ST PETERBURG, RU   -1   \n",
       "1           1            1  IP ALIEV NIFTALY, St Petersburg, RU   -1   \n",
       "2           2            1  IP ALIEV NIFTALY, St Petersburg, RU   -1   \n",
       "3           3            2  IP ALIEV NIFTALY, St Petersburg, RU   -1   \n",
       "4           4            1  IP ALIEV NIFTALY, St Petersburg, RU   -1   \n",
       "\n",
       "                       tstmp        amount tail_type  \n",
       "0  2018-01-02 18:21:17+03:00         large        -1  \n",
       "1  2018-07-06 09:39:20+03:00  medium_small        -1  \n",
       "2  2018-12-26 22:09:25+03:00  medium_small        -1  \n",
       "3  2018-11-05 23:01:48+03:00  medium_small        -1  \n",
       "4  2018-09-25 08:22:11+03:00  medium_small        -1  "
      ]
     },
     "execution_count": 38,
     "metadata": {},
     "output_type": "execute_result"
    }
   ],
   "source": [
    "df.head()"
   ]
  },
  {
   "cell_type": "code",
   "execution_count": 39,
   "metadata": {},
   "outputs": [],
   "source": [
    "#graph = torch.load(r'processed/data_processed', 'rb')\n",
    "\n",
    "'''\n",
    "--- edge_index_dict --- словарь, key - вид отношения, value - array из двух списков head и tail\n",
    "--- num_nodes_dict --- количество сущностей в каждой категории\n",
    "--- edge_reltype --- словарь, key - вид отношения, value - [порядковый номер отношения] * количество отношений\n",
    "'''\n",
    "edge_index_dict = dict()\n",
    "num_nodes_dict = dict()\n",
    "num_nodes_dict['person'] = len(df.customer_id.unique())\n",
    "edge_reltype = dict()\n",
    "count = 0\n",
    "for i in sorted(df.tail_type.unique()):\n",
    "    num_nodes_dict[str(i)] = len(df[df.tail_type==i].terminal_id.unique())\n",
    "for i in sorted(df.amount.unique()):\n",
    "    edge_index_dict[str(i)] = np.array([df[df['amount']==i]['customer_id'], df[df['amount']==i]['terminal_id']])\n",
    "    edge_reltype[str(i)] = np.array([count]*len(edge_index_dict[str(i)][0])).reshape(len(edge_index_dict[str(i)][0]),1)\n",
    "    count += 1\n",
    "# for i in sorted(df.Address.unique()):\n",
    "#     edge_index_dict[str(i)] = np.array([df[df['Address']==i]['customer_id'], df[df['Address']==i]['terminal_id']])\n",
    "#     edge_reltype[str(i)] = np.array([count]*len(edge_index_dict[str(i)][0])).reshape(len(edge_index_dict[str(i)][0]),1)\n",
    "#     count += 1\n",
    "# for i in sorted(df.transaction_date.unique()):\n",
    "#     edge_index_dict[str(i)] = np.array([df[df['transaction_date']==i]['customer_id'], df[df['transaction_date']==i]['terminal_id']])\n",
    "#     edge_reltype[str(i)] = np.array([count]*len(edge_index_dict[str(i)][0])).reshape(len(edge_index_dict[str(i)][0]),1)\n",
    "#     count += 1\n",
    "\n",
    "graph = {\n",
    "    'edge_index_dict': edge_index_dict,\n",
    "    'edge_feat_dict': None,\n",
    "    'node_feat_dict': None,\n",
    "    'num_nodes_dict': num_nodes_dict,\n",
    "    'edge_reltype': edge_reltype\n",
    "}\n",
    "\n",
    "torch.save(graph, r'data_processed', pickle_protocol=4)"
   ]
  },
  {
   "cell_type": "code",
   "execution_count": 40,
   "metadata": {},
   "outputs": [],
   "source": [
    "# graph = torch.load(r'data_processed', 'rb')"
   ]
  },
  {
   "cell_type": "code",
   "execution_count": 41,
   "metadata": {},
   "outputs": [
    {
     "data": {
      "text/plain": [
       "3111763"
      ]
     },
     "execution_count": 41,
     "metadata": {},
     "output_type": "execute_result"
    }
   ],
   "source": [
    "sum(graph['num_nodes_dict'].values())"
   ]
  },
  {
   "cell_type": "code",
   "execution_count": 42,
   "metadata": {},
   "outputs": [],
   "source": [
    "#dataset_df = pd.read_csv ('dataset_pre.csv')\n",
    "def Dataset(name_relation):\n",
    "    dataset = pd.DataFrame(columns = ['head_type', 'head', 'relation', 'tail_type', 'tail'])\n",
    "\n",
    "    dataset['head_type'] = ['person']*len(df['customer_id'])\n",
    "    dataset['head'] = df['customer_id']\n",
    "    dataset['tail'] = df['terminal_id']\n",
    "    dataset['tail_type'] = df['tail_type']\n",
    "    dataset['relation'] = [edge_reltype[str(key)][0][0] for key in df[name_relation]]\n",
    "    dataset['tail_type'] = [str(i) for i in dataset['tail_type']]\n",
    "    dataset['tstmp'] = df['tstmp']\n",
    "    return dataset\n",
    "\n",
    "dataset_amount = Dataset('amount')\n",
    "# dataset_Address = Dataset('Address')\n",
    "# dataset_transaction_date = Dataset('transaction_date')\n",
    "\n",
    "# dataset_df = pd.concat([dataset_amount, dataset_Address, dataset_transaction_date],axis = 0, ignore_index=True)\n",
    "dataset_df = pd.concat([dataset_amount],axis = 0, ignore_index=True)\n",
    "dataset_df = dataset_df.sort_values('relation')\n",
    "\n",
    "dataset_df.to_csv('dataset_pre.csv', index=False)"
   ]
  },
  {
   "cell_type": "code",
   "execution_count": 43,
   "metadata": {},
   "outputs": [
    {
     "data": {
      "text/html": [
       "<div>\n",
       "<style scoped>\n",
       "    .dataframe tbody tr th:only-of-type {\n",
       "        vertical-align: middle;\n",
       "    }\n",
       "\n",
       "    .dataframe tbody tr th {\n",
       "        vertical-align: top;\n",
       "    }\n",
       "\n",
       "    .dataframe thead th {\n",
       "        text-align: right;\n",
       "    }\n",
       "</style>\n",
       "<table border=\"1\" class=\"dataframe\">\n",
       "  <thead>\n",
       "    <tr style=\"text-align: right;\">\n",
       "      <th></th>\n",
       "      <th>head_type</th>\n",
       "      <th>head</th>\n",
       "      <th>relation</th>\n",
       "      <th>tail_type</th>\n",
       "      <th>tail</th>\n",
       "      <th>tstmp</th>\n",
       "    </tr>\n",
       "  </thead>\n",
       "  <tbody>\n",
       "    <tr>\n",
       "      <th>0</th>\n",
       "      <td>person</td>\n",
       "      <td>0</td>\n",
       "      <td>0</td>\n",
       "      <td>-1</td>\n",
       "      <td>0</td>\n",
       "      <td>2018-01-02 18:21:17+03:00</td>\n",
       "    </tr>\n",
       "    <tr>\n",
       "      <th>2680054</th>\n",
       "      <td>person</td>\n",
       "      <td>1346</td>\n",
       "      <td>0</td>\n",
       "      <td>5</td>\n",
       "      <td>28163</td>\n",
       "      <td>2018-12-12 00:00:00+03:00</td>\n",
       "    </tr>\n",
       "    <tr>\n",
       "      <th>2680053</th>\n",
       "      <td>person</td>\n",
       "      <td>3757</td>\n",
       "      <td>0</td>\n",
       "      <td>5</td>\n",
       "      <td>28162</td>\n",
       "      <td>2018-11-02 00:00:00+03:00</td>\n",
       "    </tr>\n",
       "    <tr>\n",
       "      <th>2680052</th>\n",
       "      <td>person</td>\n",
       "      <td>3757</td>\n",
       "      <td>0</td>\n",
       "      <td>5</td>\n",
       "      <td>28161</td>\n",
       "      <td>2018-11-14 00:00:00+03:00</td>\n",
       "    </tr>\n",
       "    <tr>\n",
       "      <th>2680051</th>\n",
       "      <td>person</td>\n",
       "      <td>1346</td>\n",
       "      <td>0</td>\n",
       "      <td>5</td>\n",
       "      <td>28160</td>\n",
       "      <td>2018-10-28 00:00:00+03:00</td>\n",
       "    </tr>\n",
       "    <tr>\n",
       "      <th>...</th>\n",
       "      <td>...</td>\n",
       "      <td>...</td>\n",
       "      <td>...</td>\n",
       "      <td>...</td>\n",
       "      <td>...</td>\n",
       "      <td>...</td>\n",
       "    </tr>\n",
       "    <tr>\n",
       "      <th>179086</th>\n",
       "      <td>person</td>\n",
       "      <td>2190</td>\n",
       "      <td>7</td>\n",
       "      <td>0</td>\n",
       "      <td>20958</td>\n",
       "      <td>2018-03-08 18:36:55+03:00</td>\n",
       "    </tr>\n",
       "    <tr>\n",
       "      <th>179088</th>\n",
       "      <td>person</td>\n",
       "      <td>1848</td>\n",
       "      <td>7</td>\n",
       "      <td>0</td>\n",
       "      <td>20960</td>\n",
       "      <td>2018-12-14 05:55:02+03:00</td>\n",
       "    </tr>\n",
       "    <tr>\n",
       "      <th>179089</th>\n",
       "      <td>person</td>\n",
       "      <td>1848</td>\n",
       "      <td>7</td>\n",
       "      <td>0</td>\n",
       "      <td>20961</td>\n",
       "      <td>2018-03-18 07:01:59+03:00</td>\n",
       "    </tr>\n",
       "    <tr>\n",
       "      <th>179075</th>\n",
       "      <td>person</td>\n",
       "      <td>2992</td>\n",
       "      <td>7</td>\n",
       "      <td>0</td>\n",
       "      <td>20947</td>\n",
       "      <td>2018-05-23 08:42:31+03:00</td>\n",
       "    </tr>\n",
       "    <tr>\n",
       "      <th>3107717</th>\n",
       "      <td>person</td>\n",
       "      <td>2591</td>\n",
       "      <td>7</td>\n",
       "      <td>18</td>\n",
       "      <td>277428</td>\n",
       "      <td>2018-10-23 19:57:29+03:00</td>\n",
       "    </tr>\n",
       "  </tbody>\n",
       "</table>\n",
       "<p>3107718 rows × 6 columns</p>\n",
       "</div>"
      ],
      "text/plain": [
       "        head_type  head  relation tail_type    tail                      tstmp\n",
       "0          person     0         0        -1       0  2018-01-02 18:21:17+03:00\n",
       "2680054    person  1346         0         5   28163  2018-12-12 00:00:00+03:00\n",
       "2680053    person  3757         0         5   28162  2018-11-02 00:00:00+03:00\n",
       "2680052    person  3757         0         5   28161  2018-11-14 00:00:00+03:00\n",
       "2680051    person  1346         0         5   28160  2018-10-28 00:00:00+03:00\n",
       "...           ...   ...       ...       ...     ...                        ...\n",
       "179086     person  2190         7         0   20958  2018-03-08 18:36:55+03:00\n",
       "179088     person  1848         7         0   20960  2018-12-14 05:55:02+03:00\n",
       "179089     person  1848         7         0   20961  2018-03-18 07:01:59+03:00\n",
       "179075     person  2992         7         0   20947  2018-05-23 08:42:31+03:00\n",
       "3107717    person  2591         7        18  277428  2018-10-23 19:57:29+03:00\n",
       "\n",
       "[3107718 rows x 6 columns]"
      ]
     },
     "execution_count": 43,
     "metadata": {},
     "output_type": "execute_result"
    }
   ],
   "source": [
    "dataset_df"
   ]
  },
  {
   "cell_type": "code",
   "execution_count": 44,
   "metadata": {},
   "outputs": [
    {
     "name": "stderr",
     "output_type": "stream",
     "text": [
      "c:\\Users\\Elena\\anaconda3\\envs\\ml\\lib\\site-packages\\pandas\\core\\frame.py:4913: SettingWithCopyWarning: \n",
      "A value is trying to be set on a copy of a slice from a DataFrame\n",
      "\n",
      "See the caveats in the documentation: https://pandas.pydata.org/pandas-docs/stable/user_guide/indexing.html#returning-a-view-versus-a-copy\n",
      "  errors=errors,\n"
     ]
    },
    {
     "name": "stdout",
     "output_type": "stream",
     "text": [
      "TRAIN:  58\n",
      "VALID:  17\n",
      "TEST:  25\n"
     ]
    }
   ],
   "source": [
    "train = dataset_df[(dataset_df.tstmp >= '2018-01-01 00:00:00+03:00') & (dataset_df.tstmp < '2018-08-01 00:00:00+03:00')]\n",
    "train.drop('tstmp', inplace=True, axis=1)\n",
    "valid = dataset_df[(dataset_df.tstmp >= '2018-08-01 00:00:00+03:00') & (dataset_df.tstmp < '2018-10-01 00:00:00+03:00')]\n",
    "valid.drop('tstmp', inplace=True, axis=1)\n",
    "test = dataset_df[(dataset_df.tstmp >= '2018-10-01 00:00:00+03:00') & (dataset_df.tstmp < '2019-01-01 00:00:00+03:00')]\n",
    "test.drop('tstmp', inplace=True, axis=1)\n",
    "print('TRAIN: ', round(len(train)/len(dataset_df)*100))\n",
    "print('VALID: ', round(len(valid)/len(dataset_df)*100))\n",
    "print('TEST: ', round(len(test)/len(dataset_df)*100))"
   ]
  },
  {
   "cell_type": "code",
   "execution_count": 45,
   "metadata": {},
   "outputs": [],
   "source": [
    "# train, test = sklearn.model_selection.train_test_split(dataset_df, shuffle=False, test_size=0.2) #random_state=2020\n",
    "# valid, test = sklearn.model_selection.train_test_split(test, shuffle=False, test_size=0.5)"
   ]
  },
  {
   "cell_type": "code",
   "execution_count": 46,
   "metadata": {},
   "outputs": [],
   "source": [
    "train = train.sort_values('relation')\n",
    "test = test.sort_values('relation')\n",
    "valid = valid.sort_values('relation')"
   ]
  },
  {
   "cell_type": "code",
   "execution_count": 47,
   "metadata": {},
   "outputs": [
    {
     "data": {
      "image/png": "[encoded data removed]",
      "text/plain": [
       "<Figure size 432x288 with 1 Axes>"
      ]
     },
     "metadata": {
      "needs_background": "light"
     },
     "output_type": "display_data"
    },
    {
     "data": {
      "image/png": "[encoded data removed]",
      "text/plain": [
       "<Figure size 432x288 with 1 Axes>"
      ]
     },
     "metadata": {
      "needs_background": "light"
     },
     "output_type": "display_data"
    },
    {
     "data": {
      "image/png": "[encoded data removed]",
      "text/plain": [
       "<Figure size 432x288 with 1 Axes>"
      ]
     },
     "metadata": {
      "needs_background": "light"
     },
     "output_type": "display_data"
    }
   ],
   "source": [
    "import matplotlib.pyplot as plt\n",
    "plt.hist(train.tail_type.sort_values())\n",
    "plt.show()\n",
    "plt.hist(test.tail_type.sort_values())\n",
    "plt.show()\n",
    "plt.hist(valid.tail_type.sort_values())\n",
    "plt.show()"
   ]
  },
  {
   "cell_type": "code",
   "execution_count": 48,
   "metadata": {},
   "outputs": [
    {
     "data": {
      "image/png": "[encoded data removed]",
      "text/plain": [
       "<Figure size 432x288 with 1 Axes>"
      ]
     },
     "metadata": {
      "needs_background": "light"
     },
     "output_type": "display_data"
    },
    {
     "data": {
      "image/png": "[encoded data removed]",
      "text/plain": [
       "<Figure size 432x288 with 1 Axes>"
      ]
     },
     "metadata": {
      "needs_background": "light"
     },
     "output_type": "display_data"
    },
    {
     "data": {
      "image/png": "[encoded data removed]",
      "text/plain": [
       "<Figure size 432x288 with 1 Axes>"
      ]
     },
     "metadata": {
      "needs_background": "light"
     },
     "output_type": "display_data"
    }
   ],
   "source": [
    "plt.hist(train.relation.sort_values())\n",
    "plt.show()\n",
    "plt.hist(test.relation.sort_values())\n",
    "plt.show()\n",
    "plt.hist(valid.relation.sort_values())\n",
    "plt.show()"
   ]
  },
  {
   "cell_type": "code",
   "execution_count": 49,
   "metadata": {},
   "outputs": [
    {
     "name": "stderr",
     "output_type": "stream",
     "text": [
      "100%|██████████| 10/10 [03:58<00:00, 23.86s/it]\n"
     ]
    }
   ],
   "source": [
    "from random import randint,choice\n",
    "dict_df_cat = {}\n",
    "sample_neg = {}\n",
    "num_neg = 1000\n",
    "for i in tqdm(dataset_df.tail_type.unique()):\n",
    "     term = dataset_df[dataset_df.tail_type==i]\n",
    "     dict_df_cat[i] = [np.array(term['head']),np.array(term['tail'])]\n",
    "     heads_n = []\n",
    "     tails_n = []\n",
    "     for j in (range(num_neg)):\n",
    "          head_n = randint(0,num_nodes_dict['person']-1)\n",
    "          # tail_n = randint(0,num_nodes_dict[i]-1)\n",
    "          mask = dict_df_cat[i][0]==head_n\n",
    "          tails = set(range(0,num_nodes_dict[i]-1)) - set(dict_df_cat[i][1][mask])\n",
    "          tail_n = choice(list(tails))\n",
    "          heads_n.append(head_n)\n",
    "          tails_n.append(tail_n)\n",
    "     sample_neg[i] = [np.array(heads_n),np.array(tails_n)]\n",
    "     #sample_neg[i] = torch_geometric.utils.negative_sampling(edge_index=torch.LongTensor(dict_df_cat[i]), num_neg_samples=num_neg, force_undirected = True)"
   ]
  },
  {
   "cell_type": "code",
   "execution_count": 50,
   "metadata": {},
   "outputs": [
    {
     "name": "stderr",
     "output_type": "stream",
     "text": [
      "100%|██████████| 774512/774512 [00:24<00:00, 32132.16it/s]\n",
      "100%|██████████| 537326/537326 [00:15<00:00, 33616.19it/s]\n"
     ]
    }
   ],
   "source": [
    "from random import sample\n",
    "head_neg_test = []\n",
    "tail_neg_test = []\n",
    "for idx in tqdm(test.index):\n",
    "    t = test.loc[idx,'tail_type']\n",
    "    indexs = np.array(sample(range(0,num_neg),10))\n",
    "    head_neg_test.append(list(sample_neg[t][0][indexs] ))\n",
    "    tail_neg_test.append(list(sample_neg[t][1][indexs] ))\n",
    "\n",
    "head_neg_valid = []\n",
    "tail_neg_valid = []\n",
    "for idx in tqdm(valid.index):\n",
    "    t = valid.loc[idx,'tail_type']\n",
    "    indexs = np.array(sample(range(0,num_neg),10))\n",
    "    head_neg_valid.append(list(sample_neg[t][0][indexs] ))\n",
    "    tail_neg_valid.append(list(sample_neg[t][1][indexs] ))"
   ]
  },
  {
   "cell_type": "code",
   "execution_count": 51,
   "metadata": {},
   "outputs": [],
   "source": [
    "train = train.to_dict(orient='list')\n",
    "test = test.to_dict(orient='list')\n",
    "valid = valid.to_dict(orient='list')"
   ]
  },
  {
   "cell_type": "code",
   "execution_count": 52,
   "metadata": {},
   "outputs": [],
   "source": [
    "#relation_dict = dict(zip(edge_index_dict.keys(),range(len(edge_index_dict.keys()))))\n",
    "\n",
    "train_dict = {\n",
    "    'head_type': list(train['head_type']),\n",
    "    'head': np.array(train['head']),\n",
    "    'relation': np.array(train['relation']),\n",
    "    'tail_type': list(train['tail_type']),\n",
    "    'tail': np.array(train['tail']),\n",
    "}\n",
    "\n",
    "test_dict = {\n",
    "    'head_type': list(test['head_type']),\n",
    "    'head': np.array(test['head']),\n",
    "    'head_neg': np.array(head_neg_test),\n",
    "    #'head_neg': test['head_neg'],\n",
    "    'relation': np.array(test['relation']),\n",
    "    'tail_type': list(test['tail_type']),\n",
    "    'tail': np.array(test['tail']),\n",
    "    'tail_neg': np.array(tail_neg_test),\n",
    "    #'tail_neg': test['tail_neg']\n",
    "}\n",
    "\n",
    "valid_dict = {\n",
    "    'head_type': list(valid['head_type']),\n",
    "    'head': np.array(valid['head']),\n",
    "    'head_neg': np.array(head_neg_valid),\n",
    "    #'head_neg': valid['head_neg'],\n",
    "    'relation': np.array(valid['relation']),\n",
    "    'tail_type': list(valid['tail_type']),\n",
    "    'tail': np.array(valid['tail']),\n",
    "    'tail_neg': np.array(tail_neg_valid),\n",
    "    #'tail_neg': valid['tail_neg']\n",
    "}\n",
    "\n",
    "torch.save(train_dict, r'train.pt')\n",
    "torch.save(test_dict, r'test.pt')\n",
    "torch.save(valid_dict, r'valid.pt')"
   ]
  },
  {
   "cell_type": "code",
   "execution_count": 53,
   "metadata": {},
   "outputs": [],
   "source": [
    "train = torch.load(r'train.pt')\n",
    "test = torch.load(r'test.pt')\n",
    "valid = torch.load(r'valid.pt')"
   ]
  },
  {
   "cell_type": "code",
   "execution_count": 54,
   "metadata": {},
   "outputs": [
    {
     "data": {
      "text/plain": [
       "dict_keys(['head_type', 'head', 'head_neg', 'relation', 'tail_type', 'tail', 'tail_neg'])"
      ]
     },
     "execution_count": 54,
     "metadata": {},
     "output_type": "execute_result"
    }
   ],
   "source": [
    "test.keys()"
   ]
  },
  {
   "cell_type": "code",
   "execution_count": 55,
   "metadata": {},
   "outputs": [
    {
     "data": {
      "text/plain": [
       "array([0, 0, 0, ..., 7, 7, 7])"
      ]
     },
     "execution_count": 55,
     "metadata": {},
     "output_type": "execute_result"
    }
   ],
   "source": [
    "test['relation']"
   ]
  },
  {
   "cell_type": "code",
   "execution_count": 56,
   "metadata": {},
   "outputs": [],
   "source": [
    "#dataset_df = pd.read_csv ('dataset_pre.csv')\n",
    "# dataset_df = pd.DataFrame(columns = ['head_type', 'head', 'relation', 'tail_type', 'tail'])\n",
    "# head = []\n",
    "# tail = []\n",
    "# relat = []\n",
    "# tail_type = []\n",
    "# mcc_dict = dict(zip(df.terminal_id, df.mcc))\n",
    "# for key,value in edge_index_dict.items():\n",
    "#     head += list(value[0])\n",
    "#     tail += list(value[1])\n",
    "#     tail_type += [str(mcc_dict[t]) for t in list(value[1])]\n",
    "#     relat += [edge_reltype[key][0][0]]*len(value[0])\n",
    "\n",
    "    \n",
    "# dataset_df['head_type'] = ['person']*len(head)\n",
    "# dataset_df['head'] = head\n",
    "# dataset_df['tail'] = tail\n",
    "# dataset_df['tail_type'] = tail_type\n",
    "# dataset_df['relation'] = relat\n",
    "\n",
    "# #dataset_df.to_csv('dataset_pre.csv', index=False)"
   ]
  },
  {
   "cell_type": "code",
   "execution_count": 57,
   "metadata": {},
   "outputs": [],
   "source": [
    "# #graph = torch.load(r'processed/data_processed', 'rb')\n",
    "# df = pd.read_csv ('dataset.csv')\n",
    "# edge_index_dict = dict()\n",
    "# num_nodes_dict = dict()\n",
    "# edge_reltype = dict()\n",
    "\n",
    "# count = 0\n",
    "# for key_head in category_head:\n",
    "#     flag = True\n",
    "\n",
    "#     bottom = category_head[key_head][0]\n",
    "#     upper = category_head[key_head][1]\n",
    "#     my_query_head = 'amount>=@bottom & amount<@upper'\n",
    "#     term_head = df.query(my_query_head)\n",
    "#     num_nodes_dict[key_head] = len(term_head)\n",
    "    \n",
    "#     for key_tail in df['mcc'].unique(): \n",
    "#         my_query_tail = 'mcc==@key_tail'\n",
    "#         if flag:\n",
    "#             term_tail = df.query(my_query_tail)\n",
    "#             num_nodes_dict[key_tail] = len(term_tail)\n",
    "#         term = term_head.query(my_query_tail)\n",
    "#         if len(term)!=0:\n",
    "#             edge_index_dict[(key_head,f'{key_head}-{key_tail}',key_tail)] = np.vstack((term['customer_id'],term['terminal_id']))\n",
    "#             edge_reltype[(key_head,f'{key_head}-{key_tail}',key_tail)] = np.array([count]*len(term)).reshape(len(term),1)\n",
    "#             count += 1\n",
    "    \n",
    "#     flag = False\n",
    "\n",
    "# graph = {\n",
    "#     'edge_index_dict': edge_index_dict,\n",
    "#     'edge_feat_dict': None,\n",
    "#     'node_feat_dict': None,\n",
    "#     'num_nodes_dict': num_nodes_dict,\n",
    "#     'edge_reltype': edge_reltype\n",
    "# }\n",
    "\n",
    "# torch.save(graph, r'processed/data_processed', pickle_protocol=4)"
   ]
  },
  {
   "cell_type": "code",
   "execution_count": 58,
   "metadata": {},
   "outputs": [],
   "source": [
    "#dataset_df = pd.read_csv ('dataset_pre.csv')\n",
    "\n",
    "# dataset_df = pd.DataFrame(columns = ['head_type', 'head', 'relation', 'tail_type', 'tail'])\n",
    "# dataset_df['head_type'] = [type for amount in df['amount'] for type in category_head if category_head[type][0]<=amount<category_head[type][1]]\n",
    "# dataset_df['head'] = df['customer_id']\n",
    "# dataset_df['tail_type'] = df['mcc']\n",
    "# dataset_df['tail'] = df['terminal_id']\n",
    "# dataset_df['relation'] = [str(dataset_df['head_type'][i])+'-'+str(dataset_df['tail_type'][i]) for i in range(len(df))]\n",
    "\n",
    "# user_dict = dict(zip(dataset_df['head'].unique(), list(range(1,len(dataset_df['head'].unique())+1))))\n",
    "# shop_dict = dict(zip(dataset_df['tail'].unique(), list(range(len(dataset_df['head'].unique())+1,len(dataset_df['head'].unique())+len(dataset_df['tail'].unique())+1))))\n",
    "# dataset_df['head'] = [user_dict[i] for i in dataset_df['head']]\n",
    "# dataset_df['tail'] = [shop_dict[i] for i in dataset_df['tail']]\n",
    "\n",
    "# dataset_df.to_csv('dataset_pre.csv', index=False)"
   ]
  },
  {
   "cell_type": "code",
   "execution_count": 59,
   "metadata": {},
   "outputs": [],
   "source": [
    "# negative_sampl = torch_geometric.utils.negative_sampling(edge_index=torch.Tensor([dataset_df['head'],dataset_df['tail']]), num_neg_samples=len(valid)*100)"
   ]
  },
  {
   "cell_type": "code",
   "execution_count": 60,
   "metadata": {},
   "outputs": [],
   "source": [
    "# train = pd.DataFrame(train).sort_values('relation').to_dict(orient='list')\n",
    "# test = pd.DataFrame(test).sort_values('relation').to_dict(orient='list')\n",
    "# valid = pd.DataFrame(valid).sort_values('relation').to_dict(orient='list')\n",
    "\n",
    "# head_neg = np.array(negative_sampl[0])\n",
    "# tail_neg = np.array(negative_sampl[1])"
   ]
  },
  {
   "cell_type": "code",
   "execution_count": 61,
   "metadata": {},
   "outputs": [],
   "source": [
    "# maxx = max(dataset_df['head'].unique())\n",
    "\n",
    "# head_neg = np.array([], dtype = int)\n",
    "# tail_neg = np.array([], dtype = int)\n",
    "\n",
    "# negative_sampl_array = np.array(negative_sampl)\n",
    "# for i in tqdm(range(len(negative_sampl_array[0]))):\n",
    "#     if negative_sampl_array[1][i]>maxx and negative_sampl_array[0][i]<=maxx:\n",
    "#         head_neg = np.append(head_neg, negative_sampl_array[0][i])\n",
    "#         tail_neg = np.append(tail_neg, negative_sampl_array[1][i])\n",
    "#     elif negative_sampl_array[0][i]>maxx and negative_sampl_array[1][i]<=maxx:\n",
    "#         head_neg = np.append(head_neg, negative_sampl_array[1][i])\n",
    "#         tail_neg = np.append(tail_neg, negative_sampl_array[0][i])"
   ]
  },
  {
   "cell_type": "code",
   "execution_count": 62,
   "metadata": {},
   "outputs": [],
   "source": [
    "# head_neg_valid, tail_neg_valid = head_neg[:len(head_neg)//2], head_neg[:len(tail_neg)//2]\n",
    "# head_neg_test, tail_neg_test = head_neg[len(head_neg)//2:], head_neg[len(tail_neg)//2:]\n",
    "\n",
    "# head_neg_valid = head_neg_valid[:(len(head_neg_valid)//len(valid))*len(valid)]\n",
    "# tail_neg_valid = tail_neg_valid[:(len(tail_neg_valid)//len(valid))*len(valid)]\n",
    "# head_neg_test = head_neg_test[:(len(head_neg_test)//len(test))*len(test)]\n",
    "# tail_neg_test = tail_neg_test[:(len(tail_neg_test)//len(test))*len(test)]\n",
    "\n",
    "# head_neg_valid = head_neg_valid.reshape(len(valid), -1)\n",
    "# tail_neg_valid = tail_neg_valid.reshape(len(valid), -1)\n",
    "# head_neg_test = head_neg_test.reshape(len(test), -1)\n",
    "# tail_neg_test = tail_neg_test.reshape(len(test), -1)"
   ]
  },
  {
   "cell_type": "code",
   "execution_count": 63,
   "metadata": {},
   "outputs": [
    {
     "data": {
      "text/plain": [
       "dict_keys(['edge_index_dict', 'edge_feat_dict', 'node_feat_dict', 'num_nodes_dict', 'edge_reltype'])"
      ]
     },
     "execution_count": 63,
     "metadata": {},
     "output_type": "execute_result"
    }
   ],
   "source": [
    "graph.keys()"
   ]
  }
 ],
 "metadata": {
  "interpreter": {
   "hash": "55ef9a55fdc765f2ef7428dcd7a5e17e687a3fb5472cc7aae07b9f2f89984f80"
  },
  "kernelspec": {
   "display_name": "Python 3.7.11 ('ml')",
   "language": "python",
   "name": "python3"
  },
  "language_info": {
   "codemirror_mode": {
    "name": "ipython",
    "version": 3
   },
   "file_extension": ".py",
   "mimetype": "text/x-python",
   "name": "python",
   "nbconvert_exporter": "python",
   "pygments_lexer": "ipython3",
   "version": "3.7.11"
  },
  "orig_nbformat": 4
 },
 "nbformat": 4,
 "nbformat_minor": 2
}
