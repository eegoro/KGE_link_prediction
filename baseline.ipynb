{
 "cells": [
  {
   "cell_type": "code",
   "execution_count": 1,
   "metadata": {},
   "outputs": [],
   "source": [
    "import torch\n",
    "from torch.utils.data import DataLoader\n",
    "from torch.utils.data import Dataset\n",
    "\n",
    "import numpy as np\n",
    "import pandas as pd\n",
    "\n",
    "from tqdm import tqdm\n",
    "import json"
   ]
  },
  {
   "cell_type": "code",
   "execution_count": 2,
   "metadata": {},
   "outputs": [],
   "source": [
    "with open(r'data/info.txt', 'r') as info_file:\n",
    "    NEG_SAMPLE_SIZE = json.load(info_file)['NEG_SAMPLE_SIZE']\n",
    "BATCH_SIZE_TEST = 1024\n",
    "NUM_WORKERS = 10"
   ]
  },
  {
   "cell_type": "markdown",
   "metadata": {},
   "source": [
    "#### Data Loader"
   ]
  },
  {
   "cell_type": "code",
   "execution_count": 3,
   "metadata": {},
   "outputs": [
    {
     "name": "stdout",
     "output_type": "stream",
     "text": [
      "NUMBER OF ENTITY: 20720\n",
      "NUMBER OF RELETION: 8\n",
      "\n",
      "TRAIN: 58%\n",
      "VALID: 17%\n",
      "TEST: 25%\n"
     ]
    }
   ],
   "source": [
    "train = pd.read_csv (r'data/train.csv')\n",
    "test = pd.read_csv (r'data/test.csv')\n",
    "valid = pd.read_csv (r'data/valid.csv')\n",
    "\n",
    "for i in [train, valid, test]:\n",
    "    i['neg_head'] = [eval(l) for l in i['neg_head']]\n",
    "    i['neg_tail'] = [eval(l) for l in i['neg_tail']]\n",
    "\n",
    "nentity = len(pd.concat([train['head'], valid['head'], test['head']]).unique()) + len(pd.concat([train['tail'], valid['tail'], test['tail']]).unique())\n",
    "nrelation = len(pd.concat([train['relation'], valid['relation'], test['relation']]).unique())\n",
    "\n",
    "print(f'NUMBER OF ENTITY: {nentity}')\n",
    "print(f'NUMBER OF RELETION: {nrelation}')\n",
    "print()\n",
    "print(f'TRAIN: {round(len(train)/(len(train)+len(test)+len(valid))*100)}%')\n",
    "print(f'VALID: {round(len(valid)/(len(train)+len(test)+len(valid))*100)}%')\n",
    "print(f'TEST: {round(len(test)/(len(train)+len(test)+len(valid))*100)}%')"
   ]
  },
  {
   "cell_type": "code",
   "execution_count": 4,
   "metadata": {},
   "outputs": [],
   "source": [
    "class KGEDataset(Dataset):\n",
    "\n",
    "  def __init__(self,table,mode='train'):\n",
    "\n",
    "    self.mode = mode\n",
    "    self.head = torch.tensor(np.array(table['head']))\n",
    "    self.tail = torch.tensor(np.array(table['tail']))\n",
    "    self.relation = torch.tensor(np.array(table['relation']))\n",
    "    self.neg_head = torch.tensor(np.array(list(table['neg_head'])))\n",
    "    self.neg_tail = torch.tensor(np.array(list(table['neg_tail'])))\n",
    "\n",
    "    if mode=='train':\n",
    "      self.subsampling_weight = torch.tensor(np.array(table['subsampling_weight']))\n",
    "\n",
    "  def __len__(self):\n",
    "    return len(self.head)\n",
    "  \n",
    "  def __getitem__(self,idx):\n",
    "    if self.mode == 'train':\n",
    "      return self.head[idx],self.tail[idx],self.relation[idx], self.neg_head[idx],self.neg_tail[idx], self.subsampling_weight[idx]\n",
    "    else:\n",
    "      return self.head[idx],self.tail[idx],self.relation[idx], self.neg_head[idx],self.neg_tail[idx]"
   ]
  },
  {
   "cell_type": "markdown",
   "metadata": {},
   "source": [
    "#### Metrics"
   ]
  },
  {
   "cell_type": "code",
   "execution_count": 5,
   "metadata": {},
   "outputs": [],
   "source": [
    "class Evaluator:\n",
    "    def eval(self, input_dict):\n",
    "        y_pred_pos, y_pred_neg = input_dict['y_pred_pos'], input_dict['y_pred_neg']\n",
    "        y_pred = torch.cat([y_pred_pos.view(-1,1), y_pred_neg], dim = 1)\n",
    "        argsort = torch.argsort(y_pred, dim = 1, descending = True)\n",
    "        ranking_list = torch.nonzero(argsort == 0, as_tuple=False)\n",
    "        ranking_list = ranking_list[:, 1] + 1\n",
    "        hits1_list = (ranking_list <= 1).to(torch.float)\n",
    "        hits3_list = (ranking_list <= 3).to(torch.float)\n",
    "        hits10_list = (ranking_list <= 10).to(torch.float)\n",
    "        mrr_list = 1./ranking_list.to(torch.float)\n",
    "\n",
    "        return mrr_list, hits1_list, hits3_list, hits10_list"
   ]
  },
  {
   "cell_type": "markdown",
   "metadata": {},
   "source": [
    "#### Baseline Random Score"
   ]
  },
  {
   "cell_type": "code",
   "execution_count": 6,
   "metadata": {},
   "outputs": [
    {
     "name": "stdout",
     "output_type": "stream",
     "text": [
      "{'NEG_SAMPLE_SIZE': 10, 'MRR': 0.17499089241027832, 'HITS@1': 0.04958022013306618, 'HITS@3': 0.1439417004585266, 'HITS@10': 0.4758194386959076}\n"
     ]
    }
   ],
   "source": [
    "evaluator = Evaluator()\n",
    "\n",
    "mrr_test, hits1_test, hits3_test, hits10_test = [], [], [], []\n",
    "test_loader=DataLoader(KGEDataset(test,mode='test'),batch_size=BATCH_SIZE_TEST,shuffle=False,num_workers=NUM_WORKERS)\n",
    "for test_values in test_loader:\n",
    "        positive_score = torch.randint(1, 100, (BATCH_SIZE_TEST,1))\n",
    "        negative_score = torch.randint(1, 100, (BATCH_SIZE_TEST,2*NEG_SAMPLE_SIZE))\n",
    "        mrr_mean, hits1_mean, hits3_mean, hits10_mean = [metric.mean() for metric in evaluator.eval({'y_pred_pos': positive_score, 'y_pred_neg': negative_score})]\n",
    "\n",
    "        mrr_test.append(mrr_mean)\n",
    "        hits1_test.append(hits1_mean)\n",
    "        hits3_test.append(hits3_mean)\n",
    "        hits10_test.append(hits10_mean)\n",
    "\n",
    "dict_metrics_rand = {'NEG_SAMPLE_SIZE': NEG_SAMPLE_SIZE,\n",
    "                'MRR': float(torch.tensor(mrr_test).mean()),\n",
    "                'HITS@1': float(torch.tensor(hits1_test).mean()),\n",
    "                'HITS@3': float(torch.tensor(hits3_test).mean()),\n",
    "                'HITS@10': float(torch.tensor(hits10_test).mean())}\n",
    "\n",
    "with open('baseline//metrics_random.txt', 'w') as var_file:\n",
    "            json.dump(dict_metrics_rand, var_file)\n",
    "\n",
    "print(dict_metrics_rand)"
   ]
  },
  {
   "cell_type": "markdown",
   "metadata": {},
   "source": [
    "#### Baseline Frequency"
   ]
  },
  {
   "cell_type": "code",
   "execution_count": 7,
   "metadata": {},
   "outputs": [
    {
     "name": "stderr",
     "output_type": "stream",
     "text": [
      "100%|██████████| 757/757 [01:50<00:00,  6.84it/s]"
     ]
    },
    {
     "name": "stdout",
     "output_type": "stream",
     "text": [
      "{'NEG_SAMPLE_SIZE': 10, 'MRR': 0.24798980355262756, 'HITS@1': 0.13284845650196075, 'HITS@3': 0.23046453297138214, 'HITS@10': 0.4533425271511078}\n"
     ]
    },
    {
     "name": "stderr",
     "output_type": "stream",
     "text": [
      "\n"
     ]
    }
   ],
   "source": [
    "evaluator = Evaluator()\n",
    "\n",
    "freq = pd.concat([train['head'], valid['head'], test['head'], train['tail'], valid['tail'], test['tail']]).value_counts()\n",
    "\n",
    "test_loader=DataLoader(KGEDataset(test,mode='test'),batch_size=BATCH_SIZE_TEST,shuffle=True,num_workers=NUM_WORKERS)\n",
    "for test_values in tqdm(test_loader):\n",
    "        \n",
    "        head,tail,relation,neg_head,neg_tail = test_values\n",
    "\n",
    "        positive_score = torch.tensor(list(freq[list(tail)]))\n",
    "        negative_tail_score = torch.tensor(list(freq[list(neg_head.view(-1))])).view(-1,NEG_SAMPLE_SIZE)\n",
    "        negative_head_score = torch.tensor(list(freq[list(neg_tail.view(-1))])).view(-1,NEG_SAMPLE_SIZE)\n",
    "\n",
    "        mrr_mean, hits1_mean, hits3_mean, hits10_mean = [metric.mean() for metric in evaluator.eval({'y_pred_pos': positive_score, 'y_pred_neg': torch.cat((negative_tail_score,negative_head_score), dim=1)})]\n",
    "\n",
    "        mrr_test.append(mrr_mean)\n",
    "        hits1_test.append(hits1_mean)\n",
    "        hits3_test.append(hits3_mean)\n",
    "        hits10_test.append(hits10_mean)\n",
    "\n",
    "dict_metrics_freq = {'NEG_SAMPLE_SIZE': NEG_SAMPLE_SIZE,\n",
    "                'MRR': float(torch.tensor(mrr_test).mean()),\n",
    "                'HITS@1': float(torch.tensor(hits1_test).mean()),\n",
    "                'HITS@3': float(torch.tensor(hits3_test).mean()),\n",
    "                'HITS@10': float(torch.tensor(hits10_test).mean())}\n",
    "\n",
    "with open('baseline//metrics_frequency.txt', 'w') as var_file:\n",
    "            json.dump(dict_metrics_freq, var_file)\n",
    "\n",
    "print(dict_metrics_freq)"
   ]
  }
 ],
 "metadata": {
  "interpreter": {
   "hash": "c688d49920be7bbf78ae94a9bca1b2bf919231a3254bde77120844e21401b4fe"
  },
  "kernelspec": {
   "display_name": "Python 3.7.11 64-bit ('ml': conda)",
   "language": "python",
   "name": "python3"
  },
  "language_info": {
   "codemirror_mode": {
    "name": "ipython",
    "version": 3
   },
   "file_extension": ".py",
   "mimetype": "text/x-python",
   "name": "python",
   "nbconvert_exporter": "python",
   "pygments_lexer": "ipython3",
   "version": "3.7.11"
  }
 },
 "nbformat": 4,
 "nbformat_minor": 4
}
